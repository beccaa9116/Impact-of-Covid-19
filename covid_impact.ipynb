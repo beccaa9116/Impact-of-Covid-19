{
 "cells": [
  {
   "cell_type": "code",
   "execution_count": 1,
   "metadata": {},
   "outputs": [
    {
     "data": {
      "text/html": [
       "<div>\n",
       "<style scoped>\n",
       "    .dataframe tbody tr th:only-of-type {\n",
       "        vertical-align: middle;\n",
       "    }\n",
       "\n",
       "    .dataframe tbody tr th {\n",
       "        vertical-align: top;\n",
       "    }\n",
       "\n",
       "    .dataframe thead th {\n",
       "        text-align: right;\n",
       "    }\n",
       "</style>\n",
       "<table border=\"1\" class=\"dataframe\">\n",
       "  <thead>\n",
       "    <tr style=\"text-align: right;\">\n",
       "      <th></th>\n",
       "      <th>Increased_Work_Hours</th>\n",
       "      <th>Work_From_Home</th>\n",
       "      <th>Hours_Worked_Per_Day</th>\n",
       "      <th>Meetings_Per_Day</th>\n",
       "      <th>Productivity_Change</th>\n",
       "      <th>Stress_Level</th>\n",
       "      <th>Health_Issue</th>\n",
       "      <th>Job_Security</th>\n",
       "      <th>Childcare_Responsibilities</th>\n",
       "      <th>Commuting_Changes</th>\n",
       "      <th>Technology_Adaptation</th>\n",
       "      <th>Salary_Changes</th>\n",
       "      <th>Team_Collaboration_Challenges</th>\n",
       "      <th>Sector</th>\n",
       "      <th>Affected_by_Covid</th>\n",
       "    </tr>\n",
       "  </thead>\n",
       "  <tbody>\n",
       "    <tr>\n",
       "      <th>0</th>\n",
       "      <td>1</td>\n",
       "      <td>1</td>\n",
       "      <td>6.392394</td>\n",
       "      <td>2.684594</td>\n",
       "      <td>1</td>\n",
       "      <td>Low</td>\n",
       "      <td>0</td>\n",
       "      <td>0</td>\n",
       "      <td>1</td>\n",
       "      <td>1</td>\n",
       "      <td>1</td>\n",
       "      <td>0</td>\n",
       "      <td>1</td>\n",
       "      <td>Retail</td>\n",
       "      <td>1</td>\n",
       "    </tr>\n",
       "    <tr>\n",
       "      <th>1</th>\n",
       "      <td>1</td>\n",
       "      <td>1</td>\n",
       "      <td>9.171984</td>\n",
       "      <td>3.339225</td>\n",
       "      <td>1</td>\n",
       "      <td>Low</td>\n",
       "      <td>0</td>\n",
       "      <td>1</td>\n",
       "      <td>0</td>\n",
       "      <td>1</td>\n",
       "      <td>1</td>\n",
       "      <td>0</td>\n",
       "      <td>1</td>\n",
       "      <td>IT</td>\n",
       "      <td>1</td>\n",
       "    </tr>\n",
       "    <tr>\n",
       "      <th>2</th>\n",
       "      <td>1</td>\n",
       "      <td>0</td>\n",
       "      <td>10.612561</td>\n",
       "      <td>2.218333</td>\n",
       "      <td>0</td>\n",
       "      <td>Medium</td>\n",
       "      <td>0</td>\n",
       "      <td>0</td>\n",
       "      <td>0</td>\n",
       "      <td>0</td>\n",
       "      <td>0</td>\n",
       "      <td>0</td>\n",
       "      <td>0</td>\n",
       "      <td>Retail</td>\n",
       "      <td>1</td>\n",
       "    </tr>\n",
       "    <tr>\n",
       "      <th>3</th>\n",
       "      <td>1</td>\n",
       "      <td>1</td>\n",
       "      <td>5.546169</td>\n",
       "      <td>5.150566</td>\n",
       "      <td>0</td>\n",
       "      <td>Medium</td>\n",
       "      <td>0</td>\n",
       "      <td>0</td>\n",
       "      <td>0</td>\n",
       "      <td>1</td>\n",
       "      <td>0</td>\n",
       "      <td>0</td>\n",
       "      <td>0</td>\n",
       "      <td>Education</td>\n",
       "      <td>1</td>\n",
       "    </tr>\n",
       "    <tr>\n",
       "      <th>4</th>\n",
       "      <td>0</td>\n",
       "      <td>1</td>\n",
       "      <td>11.424615</td>\n",
       "      <td>3.121126</td>\n",
       "      <td>1</td>\n",
       "      <td>Medium</td>\n",
       "      <td>0</td>\n",
       "      <td>1</td>\n",
       "      <td>1</td>\n",
       "      <td>1</td>\n",
       "      <td>0</td>\n",
       "      <td>1</td>\n",
       "      <td>1</td>\n",
       "      <td>Education</td>\n",
       "      <td>1</td>\n",
       "    </tr>\n",
       "  </tbody>\n",
       "</table>\n",
       "</div>"
      ],
      "text/plain": [
       "   Increased_Work_Hours  Work_From_Home  Hours_Worked_Per_Day  \\\n",
       "0                     1               1              6.392394   \n",
       "1                     1               1              9.171984   \n",
       "2                     1               0             10.612561   \n",
       "3                     1               1              5.546169   \n",
       "4                     0               1             11.424615   \n",
       "\n",
       "   Meetings_Per_Day  Productivity_Change Stress_Level  Health_Issue  \\\n",
       "0          2.684594                    1          Low             0   \n",
       "1          3.339225                    1          Low             0   \n",
       "2          2.218333                    0       Medium             0   \n",
       "3          5.150566                    0       Medium             0   \n",
       "4          3.121126                    1       Medium             0   \n",
       "\n",
       "   Job_Security  Childcare_Responsibilities  Commuting_Changes  \\\n",
       "0             0                           1                  1   \n",
       "1             1                           0                  1   \n",
       "2             0                           0                  0   \n",
       "3             0                           0                  1   \n",
       "4             1                           1                  1   \n",
       "\n",
       "   Technology_Adaptation  Salary_Changes  Team_Collaboration_Challenges  \\\n",
       "0                      1               0                              1   \n",
       "1                      1               0                              1   \n",
       "2                      0               0                              0   \n",
       "3                      0               0                              0   \n",
       "4                      0               1                              1   \n",
       "\n",
       "      Sector  Affected_by_Covid  \n",
       "0     Retail                  1  \n",
       "1         IT                  1  \n",
       "2     Retail                  1  \n",
       "3  Education                  1  \n",
       "4  Education                  1  "
      ]
     },
     "execution_count": 1,
     "metadata": {},
     "output_type": "execute_result"
    }
   ],
   "source": [
    "# Importing libraries\n",
    "import numpy as np \n",
    "import pandas as pd \n",
    "import os\n",
    "import matplotlib.pyplot as plt\n",
    "import plotly.express as px\n",
    "import seaborn as sns\n",
    "\n",
    "data = pd.read_csv('covid_impact.csv')\n",
    "data.head(5)"
   ]
  },
  {
   "cell_type": "code",
   "execution_count": 5,
   "metadata": {},
   "outputs": [
    {
     "data": {
      "text/plain": [
       "Increased_Work_Hours             0\n",
       "Work_From_Home                   0\n",
       "Hours_Worked_Per_Day             0\n",
       "Meetings_Per_Day                 0\n",
       "Productivity_Change              0\n",
       "Stress_Level                     0\n",
       "Health_Issue                     0\n",
       "Job_Security                     0\n",
       "Childcare_Responsibilities       0\n",
       "Commuting_Changes                0\n",
       "Technology_Adaptation            0\n",
       "Salary_Changes                   0\n",
       "Team_Collaboration_Challenges    0\n",
       "Sector                           0\n",
       "Affected_by_Covid                0\n",
       "dtype: int64"
      ]
     },
     "execution_count": 5,
     "metadata": {},
     "output_type": "execute_result"
    }
   ],
   "source": [
    "# Data cleaning\n",
    "data = data.dropna()\n",
    "data.isnull().sum()"
   ]
  },
  {
   "cell_type": "code",
   "execution_count": 6,
   "metadata": {},
   "outputs": [
    {
     "name": "stdout",
     "output_type": "stream",
     "text": [
      "<class 'pandas.core.frame.DataFrame'>\n",
      "RangeIndex: 10000 entries, 0 to 9999\n",
      "Data columns (total 15 columns):\n",
      " #   Column                         Non-Null Count  Dtype  \n",
      "---  ------                         --------------  -----  \n",
      " 0   Increased_Work_Hours           10000 non-null  int64  \n",
      " 1   Work_From_Home                 10000 non-null  int64  \n",
      " 2   Hours_Worked_Per_Day           10000 non-null  float64\n",
      " 3   Meetings_Per_Day               10000 non-null  float64\n",
      " 4   Productivity_Change            10000 non-null  int64  \n",
      " 5   Stress_Level                   10000 non-null  object \n",
      " 6   Health_Issue                   10000 non-null  int64  \n",
      " 7   Job_Security                   10000 non-null  int64  \n",
      " 8   Childcare_Responsibilities     10000 non-null  int64  \n",
      " 9   Commuting_Changes              10000 non-null  int64  \n",
      " 10  Technology_Adaptation          10000 non-null  int64  \n",
      " 11  Salary_Changes                 10000 non-null  int64  \n",
      " 12  Team_Collaboration_Challenges  10000 non-null  int64  \n",
      " 13  Sector                         10000 non-null  object \n",
      " 14  Affected_by_Covid              10000 non-null  int64  \n",
      "dtypes: float64(2), int64(11), object(2)\n",
      "memory usage: 1.1+ MB\n"
     ]
    }
   ],
   "source": [
    "data.info()"
   ]
  },
  {
   "cell_type": "code",
   "execution_count": 8,
   "metadata": {},
   "outputs": [
    {
     "data": {
      "text/plain": [
       "Increased_Work_Hours                 2\n",
       "Work_From_Home                       2\n",
       "Hours_Worked_Per_Day             10000\n",
       "Meetings_Per_Day                 10000\n",
       "Productivity_Change                  2\n",
       "Stress_Level                         3\n",
       "Health_Issue                         2\n",
       "Job_Security                         2\n",
       "Childcare_Responsibilities           2\n",
       "Commuting_Changes                    2\n",
       "Technology_Adaptation                2\n",
       "Salary_Changes                       2\n",
       "Team_Collaboration_Challenges        2\n",
       "Sector                               4\n",
       "Affected_by_Covid                    1\n",
       "dtype: int64"
      ]
     },
     "execution_count": 8,
     "metadata": {},
     "output_type": "execute_result"
    }
   ],
   "source": [
    "data.nunique()"
   ]
  },
  {
   "cell_type": "code",
   "execution_count": 15,
   "metadata": {},
   "outputs": [
    {
     "name": "stderr",
     "output_type": "stream",
     "text": [
      "/Users/rebekaborsikova/opt/anaconda3/envs/mypython3/lib/python3.11/site-packages/seaborn/_oldcore.py:1119: FutureWarning: use_inf_as_na option is deprecated and will be removed in a future version. Convert inf values to NaN before operating instead.\n",
      "  with pd.option_context('mode.use_inf_as_na', True):\n"
     ]
    },
    {
     "data": {
      "image/png": "[encoded data removed]",
      "text/plain": [
       "<Figure size 1000x600 with 1 Axes>"
      ]
     },
     "metadata": {},
     "output_type": "display_data"
    }
   ],
   "source": [
    "#plot increased working hours\n",
    "plt.figure(figsize=(10, 6))\n",
    "sns.histplot(data['Increased_Work_Hours'], bins=2, color='skyblue', edgecolor='black')\n",
    "plt.title('Increased Work Hours Distribution')\n",
    "plt.xlabel('Increased Work Hours')\n",
    "plt.ylabel('Frequency')\n",
    "plt.show()\n"
   ]
  },
  {
   "cell_type": "code",
   "execution_count": 16,
   "metadata": {},
   "outputs": [
    {
     "name": "stderr",
     "output_type": "stream",
     "text": [
      "/Users/rebekaborsikova/opt/anaconda3/envs/mypython3/lib/python3.11/site-packages/seaborn/_oldcore.py:1119: FutureWarning: use_inf_as_na option is deprecated and will be removed in a future version. Convert inf values to NaN before operating instead.\n",
      "  with pd.option_context('mode.use_inf_as_na', True):\n"
     ]
    },
    {
     "data": {
      "image/png": "[encoded data removed]",
      "text/plain": [
       "<Figure size 1000x600 with 1 Axes>"
      ]
     },
     "metadata": {},
     "output_type": "display_data"
    }
   ],
   "source": [
    "#plot work from home\n",
    "plt.figure(figsize=(10, 6))\n",
    "sns.histplot(data['Work_From_Home'], bins=2, color='skyblue', edgecolor='black')\n",
    "plt.title('Work From Home Distribution')\n",
    "plt.xlabel('Work From Home')\n",
    "plt.ylabel('Frequency')\n",
    "plt.show()"
   ]
  },
  {
   "cell_type": "code",
   "execution_count": null,
   "metadata": {},
   "outputs": [],
   "source": []
  }
 ],
 "metadata": {
  "kernelspec": {
   "display_name": "mypython3",
   "language": "python",
   "name": "python3"
  },
  "language_info": {
   "codemirror_mode": {
    "name": "ipython",
    "version": 3
   },
   "file_extension": ".py",
   "mimetype": "text/x-python",
   "name": "python",
   "nbconvert_exporter": "python",
   "pygments_lexer": "ipython3",
   "version": "3.11.7"
  }
 },
 "nbformat": 4,
 "nbformat_minor": 2
}
